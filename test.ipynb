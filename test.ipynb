{
 "cells": [
  {
   "cell_type": "code",
   "execution_count": 35,
   "outputs": [
    {
     "name": "stdout",
     "output_type": "stream",
     "text": [
      "38\n"
     ]
    }
   ],
   "source": [
    "n,m,k = map(int, input())\n",
    "\n",
    "numbers = []\n",
    "for i in range(n):\n",
    "    numbers.append(int(input()))\n",
    "_max = 0\n",
    "_max2 = 0\n",
    "\n",
    "for i in numbers:\n",
    "    if _max <= i:\n",
    "       _max2 = _max\n",
    "       _max = i\n",
    "\n",
    "_k_count = 0\n",
    "answer = 0\n",
    "for i in range(m):\n",
    "    if _k_count < k:\n",
    "        answer = answer + _max\n",
    "        _k_count += 1\n",
    "    else:\n",
    "        answer = answer + _max2\n",
    "        _k_count = 0\n",
    "\n",
    "print(answer)\n",
    "\n"
   ],
   "metadata": {
    "collapsed": false,
    "ExecuteTime": {
     "end_time": "2024-01-26T07:56:37.614775400Z",
     "start_time": "2024-01-26T07:56:31.400979100Z"
    }
   }
  },
  {
   "cell_type": "code",
   "execution_count": 36,
   "outputs": [
    {
     "name": "stdout",
     "output_type": "stream",
     "text": [
      "38\n"
     ]
    }
   ],
   "source": [
    "n,m,k = map(int, input().split())\n",
    "\n",
    "numbers = []\n",
    "for i in range(n):\n",
    "    numbers.append(int(input()))\n",
    "\n",
    "_max = 0\n",
    "_max2 = 0\n",
    "for i in numbers:\n",
    "    if i >= _max:\n",
    "        _max2 = _max\n",
    "        _max = i\n",
    "\n",
    "print((_max * k + _max2) * (m // (k+1)) + _max * (m % (k+1)))"
   ],
   "metadata": {
    "collapsed": false,
    "ExecuteTime": {
     "end_time": "2024-01-26T07:56:44.701768500Z",
     "start_time": "2024-01-26T07:56:40.903122900Z"
    }
   }
  },
  {
   "cell_type": "code",
   "execution_count": 14,
   "outputs": [
    {
     "name": "stdout",
     "output_type": "stream",
     "text": [
      "12\n"
     ]
    }
   ],
   "source": [
    "N,M = map(int,input().split())\n",
    "\n",
    "cards = [[0 for j in range(M)] for i in range(N)]\n",
    "\n",
    "answer = 0\n",
    "\n",
    "for i in range(N):\n",
    "    _min = 10000\n",
    "    for j in range(M):\n",
    "        cards[i][j] = int(input())\n",
    "        if cards[i][j] < min:\n",
    "            _min  = cards[i][j]\n",
    "    answer = answer + min\n",
    "\n",
    "print(answer)\n"
   ],
   "metadata": {
    "collapsed": false,
    "ExecuteTime": {
     "end_time": "2024-01-29T07:06:04.356230200Z",
     "start_time": "2024-01-29T07:05:59.288102600Z"
    }
   }
  },
  {
   "cell_type": "code",
   "execution_count": 16,
   "outputs": [
    {
     "name": "stdout",
     "output_type": "stream",
     "text": [
      "12\n"
     ]
    }
   ],
   "source": [
    "N,M = map(int, input().split())\n",
    "\n",
    "cards = [map(int, input().split()) for i in range(N)]\n",
    "\n",
    "answer = 0\n",
    "for i in range(N):\n",
    "    answer += int(min(cards[i]))\n",
    "\n",
    "print(answer)"
   ],
   "metadata": {
    "collapsed": false,
    "ExecuteTime": {
     "end_time": "2024-01-30T06:04:30.281823100Z",
     "start_time": "2024-01-30T06:04:24.401840100Z"
    }
   }
  },
  {
   "cell_type": "code",
   "execution_count": 25,
   "outputs": [
    {
     "name": "stdout",
     "output_type": "stream",
     "text": [
      "3\n"
     ]
    }
   ],
   "source": [
    "N,M = map(int, input().split())\n",
    "\n",
    "answer = 0\n",
    "\n",
    "while N > 1:\n",
    "    if N % M == 0 :\n",
    "        N = N // M\n",
    "    else:\n",
    "        N = N - 1\n",
    "    answer = answer + 1\n",
    "\n",
    "print(answer)"
   ],
   "metadata": {
    "collapsed": false,
    "ExecuteTime": {
     "end_time": "2024-01-30T06:13:02.489413600Z",
     "start_time": "2024-01-30T06:13:01.768934600Z"
    }
   }
  },
  {
   "cell_type": "code",
   "execution_count": 39,
   "outputs": [
    {
     "name": "stdout",
     "output_type": "stream",
     "text": [
      "1 1\n",
      "2 2\n",
      "dict_items([('1', 1), ('2', 2)])\n"
     ]
    }
   ],
   "source": [
    "a={'1': 1, '2': 2}\n",
    "for key,value in a.items():\n",
    "    print(key, value)\n",
    "print(a.copy().items())\n"
   ],
   "metadata": {
    "collapsed": false,
    "ExecuteTime": {
     "end_time": "2024-01-30T07:51:57.250205Z",
     "start_time": "2024-01-30T07:51:57.232201500Z"
    }
   }
  },
  {
   "cell_type": "code",
   "execution_count": 12,
   "outputs": [
    {
     "name": "stdout",
     "output_type": "stream",
     "text": [
      "<generator object <genexpr> at 0x00000280224BC660>\n",
      "[2, 4, 6]\n"
     ]
    }
   ],
   "source": [
    "a = [1,2,3]\n",
    "b = [1,2,3,4]\n",
    "print(i + j for i, j in zip(a, b))\n",
    "print([i + j for i, j in zip(a, b)])"
   ],
   "metadata": {
    "collapsed": false,
    "ExecuteTime": {
     "end_time": "2024-02-05T02:14:42.931651400Z",
     "start_time": "2024-02-05T02:14:42.916650800Z"
    }
   }
  },
  {
   "cell_type": "code",
   "execution_count": 13,
   "outputs": [
    {
     "name": "stdout",
     "output_type": "stream",
     "text": [
      "[2, 1]\n"
     ]
    }
   ],
   "source": [
    "N = int(input())\n",
    "course = list(map(str, input().split()))\n",
    "currentLocation = [1,1]\n",
    "\n",
    "for d in course:\n",
    "    if d == 'L':\n",
    "        if currentLocation[0] > 1 : currentLocation[0] -= 1\n",
    "    elif d == 'R':\n",
    "        if currentLocation[0] < N : currentLocation[0] += 1\n",
    "    elif d == 'U': #(0,-1)\n",
    "        if currentLocation[1] > 1 : currentLocation[1] -= 1\n",
    "    elif d == 'D': #(0,1)\n",
    "        if currentLocation[1] < N : currentLocation[1] += 1\n",
    "\n",
    "print(currentLocation)\n",
    "\n"
   ],
   "metadata": {
    "collapsed": false,
    "ExecuteTime": {
     "end_time": "2024-02-05T06:06:02.648683300Z",
     "start_time": "2024-02-05T06:05:52.815993300Z"
    }
   }
  },
  {
   "cell_type": "code",
   "execution_count": null,
   "outputs": [],
   "source": [
    "N = int(input())\n",
    "course = list(map(str, input().split()))\n",
    "currentLocation = [1, 1]\n",
    "\n",
    "for d in course:\n",
    "    if d == 'L':\n",
    "        if currentLocation[0] > 1: currentLocation[0] -= 1\n",
    "    elif d == 'R':\n",
    "        if currentLocation[0] < N: currentLocation[0] += 1\n",
    "    elif d == 'U':\n",
    "        if currentLocation[1] > 1: currentLocation[1] -= 1\n",
    "    elif d == 'D':\n",
    "        if currentLocation[1] < N: currentLocation[1] += 1\n",
    "\n",
    "print(currentLocation)\n"
   ],
   "metadata": {
    "collapsed": false
   }
  },
  {
   "cell_type": "code",
   "execution_count": 37,
   "outputs": [
    {
     "name": "stdout",
     "output_type": "stream",
     "text": [
      "[1, 1]\n"
     ]
    }
   ],
   "source": [
    "from enum import Enum\n",
    "\n",
    "mapSize = int(input())\n",
    "course = input().split()\n",
    "\n",
    "class Direction(Enum):\n",
    "    L = (-1,0)\n",
    "    R = (1,0)\n",
    "    U = (-1,0)\n",
    "    D = (1,0)\n",
    "\n",
    "def move(location: list[2], direction: str):\n",
    "\n",
    "    location[0],location[1] = [h + v for h, v in zip(location, direction)]\n",
    "    if location[0] < 1: location[0] = 1\n",
    "    if location[1] > mapSize: location[1] = mapSize\n",
    "\n",
    "currentLocation = [1,1]\n",
    "for d in course:\n",
    "    move(currentLocation, d)\n",
    "\n",
    "print(currentLocation)"
   ],
   "metadata": {
    "collapsed": false,
    "ExecuteTime": {
     "end_time": "2024-02-05T07:20:44.605731100Z",
     "start_time": "2024-02-05T07:20:41.867848300Z"
    }
   }
  },
  {
   "cell_type": "code",
   "execution_count": 33,
   "outputs": [
    {
     "name": "stdout",
     "output_type": "stream",
     "text": [
      "8325\n"
     ]
    }
   ],
   "source": [
    "N = int(input())\n",
    "\n",
    "answer = 0\n",
    "t = 0\n",
    "while t < N: #time\n",
    "    for m in range(60): #min\n",
    "        for s in range(60): #sec\n",
    "            if (str(t).find('3') > -1) or (str(m).find('3') > -1) or (str(s).find('3') > -1):\n",
    "                answer += 1\n",
    "    t = t + 1\n",
    "\n",
    "print(answer)"
   ],
   "metadata": {
    "collapsed": false,
    "ExecuteTime": {
     "end_time": "2024-02-06T04:34:08.570323800Z",
     "start_time": "2024-02-06T04:34:07.701323600Z"
    }
   }
  },
  {
   "cell_type": "code",
   "execution_count": 56,
   "outputs": [
    {
     "name": "stdout",
     "output_type": "stream",
     "text": [
      "8\n"
     ]
    }
   ],
   "source": [
    "N = int(input())\n",
    "location = list(map(int, input().split(sep=',')))\n",
    "\n",
    "answer = 0\n",
    "for H in (1,-1):\n",
    "    for V in (1,-1):\n",
    "        for i in range(1,3):\n",
    "            moveX = location[0] + i * H\n",
    "            moveY = location[1] + (3-i) * V\n",
    "            if (0 < moveX <= N) and (0 < moveY <= N):\n",
    "                answer += 1\n",
    "\n",
    "print(answer)\n"
   ],
   "metadata": {
    "collapsed": false,
    "ExecuteTime": {
     "end_time": "2024-02-06T05:41:10.954201400Z",
     "start_time": "2024-02-06T05:41:08.770656800Z"
    }
   }
  },
  {
   "cell_type": "code",
   "execution_count": 17,
   "outputs": [
    {
     "name": "stdout",
     "output_type": "stream",
     "text": [
      "[1, 2, 3, 8, 4, 5, 6, 7]\n"
     ]
    }
   ],
   "source": [
    "from collections import deque\n",
    "\n",
    "# N = int(input())\n",
    "# graph = [[j for j in map(int,input().split())] for i in range(N)]\n",
    "# graph.insert(0,[])\n",
    "graph = [\n",
    "    [],\n",
    "    [2, 3],\n",
    "    [1, 8],\n",
    "    [1, 4, 5],\n",
    "    [3, 5],\n",
    "    [3, 4],\n",
    "    [7, 8],\n",
    "    [6, 8],\n",
    "    [2, 6, 7]\n",
    "]\n",
    "queue = deque()\n",
    "visited = []\n",
    "\n",
    "def bfs(node):\n",
    "    if node in visited:\n",
    "        return\n",
    "\n",
    "    visited.append(node)\n",
    "    for next_ in graph[node]:\n",
    "        if not(next_ in visited):\n",
    "            queue.append(next_)\n",
    "    bfs(queue.popleft())\n",
    "\n",
    "bfs(1)\n",
    "\n",
    "print(visited)\n",
    "\n"
   ],
   "metadata": {
    "collapsed": false,
    "ExecuteTime": {
     "end_time": "2024-02-07T04:16:44.791222800Z",
     "start_time": "2024-02-07T04:16:44.745382600Z"
    }
   }
  },
  {
   "cell_type": "code",
   "execution_count": 20,
   "outputs": [
    {
     "name": "stdout",
     "output_type": "stream",
     "text": [
      "1\n",
      "2\n",
      "3\n",
      "8\n",
      "4\n",
      "5\n",
      "6\n",
      "7\n"
     ]
    }
   ],
   "source": [
    "from collections import deque\n",
    "\n",
    "N = int(input())\n",
    "graph = [\n",
    "    [],\n",
    "    [2, 3],\n",
    "    [1, 8],\n",
    "    [1, 4, 5],\n",
    "    [3, 5],\n",
    "    [3, 4],\n",
    "    [7, 8],\n",
    "    [6, 8],\n",
    "    [2, 6, 7]\n",
    "]\n",
    "visited = [False for i in range(N+1)]\n",
    "queue = deque()\n",
    "\n",
    "def bfs(node):\n",
    "    if visited[node]: return\n",
    "\n",
    "    print(node)\n",
    "    visited[node] = True\n",
    "    for child in graph[node]:\n",
    "        if not visited[child]:\n",
    "            queue.append(child)\n",
    "    bfs(queue.popleft())\n",
    "\n",
    "bfs(1)"
   ],
   "metadata": {
    "collapsed": false,
    "ExecuteTime": {
     "end_time": "2024-02-07T04:52:43.126345300Z",
     "start_time": "2024-02-07T04:52:42.423346Z"
    }
   }
  },
  {
   "cell_type": "code",
   "execution_count": 2,
   "outputs": [
    {
     "name": "stdout",
     "output_type": "stream",
     "text": [
      "1\n",
      "2\n",
      "8\n",
      "6\n",
      "7\n",
      "3\n",
      "4\n",
      "5\n"
     ]
    }
   ],
   "source": [
    "from collections import deque\n",
    "\n",
    "N = int(input())\n",
    "stack = deque()\n",
    "graph = [\n",
    "    [],\n",
    "    [2, 3],\n",
    "    [1, 8],\n",
    "    [1, 4, 5],\n",
    "    [3, 5],\n",
    "    [3, 4],\n",
    "    [7, 8],\n",
    "    [6, 8],\n",
    "    [2, 6, 7]\n",
    "]\n",
    "visited = [False for j in range(N+1)]\n",
    "def dfs(node):\n",
    "    if visited[node]:\n",
    "        return\n",
    "    visited[node] = True\n",
    "    print(node)\n",
    "    for next_ in graph[node]:\n",
    "        stack.append(next_)\n",
    "        dfs(stack.pop())\n",
    "\n",
    "\n",
    "dfs(1)\n",
    "\n"
   ],
   "metadata": {
    "collapsed": false,
    "ExecuteTime": {
     "end_time": "2024-02-07T06:15:50.706405300Z",
     "start_time": "2024-02-07T06:15:49.079178900Z"
    }
   }
  },
  {
   "cell_type": "code",
   "execution_count": 78,
   "outputs": [
    {
     "name": "stdout",
     "output_type": "stream",
     "text": [
      "8\n"
     ]
    }
   ],
   "source": [
    "N,M = map(int, input().split())\n",
    "visited = [list(map(int,list(input()))) for i in range(N)]\n",
    "\n",
    "answer = 0\n",
    "\n",
    "def count(node): #(x,y)\n",
    "    if visited[node[0]][node[1]] : return\n",
    "\n",
    "    visited[node[0]][node[1]] = 1\n",
    "\n",
    "    for d in ((1,0),(-1,0),(0,1),(0,-1)):\n",
    "            if 0 <= node[0] + d[0] < N and 0 <= node[1] + d[1] < M:\n",
    "                if not visited[node[0] + d[0]][node[1] + d[1]]:\n",
    "                    count((node[0] + d[0], node[1] + d[1]))\n",
    "\n",
    "for x in range(N): # x = 0 ~ N -1\n",
    "    for y in range(M): # y = 0 ~ M-1\n",
    "        if visited[x][y]: pass\n",
    "        else:\n",
    "            count((x,y))\n",
    "            answer = answer + 1\n",
    "\n",
    "print(answer)\n"
   ],
   "metadata": {
    "collapsed": false,
    "ExecuteTime": {
     "end_time": "2024-02-07T08:46:08.249189500Z",
     "start_time": "2024-02-07T08:45:25.547816900Z"
    }
   }
  },
  {
   "cell_type": "code",
   "execution_count": 45,
   "outputs": [
    {
     "name": "stdout",
     "output_type": "stream",
     "text": [
      "0\n",
      "1\n"
     ]
    }
   ],
   "source": [
    "from collections import deque\n",
    "\n",
    "N,M = map(int, input().split())\n",
    "matrix = [list(map(int,list(input()))) for i in range (N)]\n",
    "queue = deque()\n",
    "answer = 1\n",
    "\n",
    "def findWay(node, distance):\n",
    "    if (node[0],node[1]) == (N,M):\n",
    "        print(distance)\n",
    "        return\n",
    "    if not matrix[node[0]][node[1]]: return\n",
    "\n",
    "    matrix[node[0]][node[1]] = 0\n",
    "\n",
    "    for (dx,dy) in ((1,0),(-1,0),(0,1),(0,-1)):\n",
    "        if not ((0 <= node[0] + dx < N) and (0 < node[1] + dy < M)) : pass\n",
    "        else:\n",
    "            queue.append((node[0] + dx,node[1] + dy))\n",
    "\n",
    "    findWay(queue.popleft(), distance + 1)\n",
    "\n",
    "\n",
    "findWay((0,0), 1)\n",
    "\n",
    "\n",
    "\n",
    "\n"
   ],
   "metadata": {
    "collapsed": false,
    "ExecuteTime": {
     "end_time": "2024-02-07T08:11:55.539644100Z",
     "start_time": "2024-02-07T08:11:55.532645800Z"
    }
   }
  },
  {
   "cell_type": "code",
   "execution_count": 25,
   "outputs": [
    {
     "name": "stdout",
     "output_type": "stream",
     "text": [
      "15\n"
     ]
    }
   ],
   "source": [
    "from collections import deque\n",
    "\n",
    "N, M = map(int, input().split())\n",
    "maze = [list(map(int, list(input()))) for i in range(N)]\n",
    "route = []\n",
    "queue = deque()\n",
    "\n",
    "queue.append((0,0,0))\n",
    "answer = 1\n",
    "\n",
    "while len(queue) > 0:\n",
    "    info = queue.popleft()\n",
    "    node = (info[0],info[1])\n",
    "    distance = info[2] + 1\n",
    "    if maze[node[0]][node[1]] == 0: continue\n",
    "    if (node[0],node[1]) == (N-1,M-1):\n",
    "        answer = distance\n",
    "        break\n",
    "\n",
    "    maze[node[0]][node[1]] = 0\n",
    "    for dx, dy in ((1,0),(-1,0),(0,1),(0,-1)):\n",
    "        if not (0 <= node[0]+dx < N and 0 <= node[1]+dy < M): pass\n",
    "        else: queue.append((node[0]+dx, node[1]+dy, distance))\n",
    "\n",
    "print(answer)"
   ],
   "metadata": {
    "collapsed": false,
    "ExecuteTime": {
     "end_time": "2024-02-08T08:13:22.096150700Z",
     "start_time": "2024-02-08T08:13:07.471487100Z"
    }
   }
  },
  {
   "cell_type": "markdown",
   "source": [],
   "metadata": {
    "collapsed": false
   }
  },
  {
   "cell_type": "code",
   "outputs": [
    {
     "name": "stdout",
     "output_type": "stream",
     "text": [
      "[2, 4, 7, 5, 8, 9]\n",
      "2\n",
      "4\n",
      "5\n",
      "7\n",
      "8\n",
      "9\n"
     ]
    }
   ],
   "source": [
    "d = []\n",
    "d2 = [2,5,7,4,8,9]\n",
    "\n",
    "def insert(_v):\n",
    "    global d\n",
    "    d.append(_v)\n",
    "    _cur = len(d) - 1\n",
    "    _parent = (_cur - 1) // 2\n",
    "    \n",
    "    # 작은걸 위로 큰걸 아래로\n",
    "    while _cur > 0 and d[_cur] < d[_parent]:\n",
    "        _tmp = d[_parent]\n",
    "        d[_parent] = d[_cur]\n",
    "        d[_cur] = _tmp\n",
    "        _cur = _parent\n",
    "        \n",
    "    \n",
    "def pop():\n",
    "    global d\n",
    "    if len(d) == 1:\n",
    "        return d.pop()\n",
    "    _return_value = d[0]\n",
    "    d[0] = d.pop()\n",
    "    \n",
    "    _cur = 0\n",
    "    _left = _cur * 2 + 1\n",
    "    _right = _cur * 2 + 2\n",
    "    \n",
    "    while _right < len(d):\n",
    "        if d[_left] < d[_right] and d[_left] < d[_cur]:\n",
    "            _tmp = d[_left]\n",
    "            d[_left] = d[_cur]\n",
    "            d[_cur] = _tmp\n",
    "            _cur = _left\n",
    "        elif d[_right] < d[_left] and d[_right] < d[_cur]:\n",
    "            _tmp = d[_right]\n",
    "            d[_right] = d[_cur]\n",
    "            d[_cur] = _tmp\n",
    "            _cur = _right\n",
    "        else: \n",
    "            break\n",
    "        _left = _cur * 2 + 1\n",
    "        _right = _cur * 2 + 2\n",
    "            \n",
    "    _left = _cur * 2 + 1        \n",
    "    if _left < len(d):\n",
    "        if d[_left] < d[_cur]:\n",
    "            _tmp = d[_left]\n",
    "            d[_left] = d[_cur]\n",
    "            d[_cur] = _tmp\n",
    "            _cur = _left\n",
    "            \n",
    "    return _return_value\n",
    "\n",
    "\n",
    "for i in range(len(d2)):\n",
    "    insert(d2[i])\n",
    "    \n",
    "print(d)\n",
    "\n",
    "for i in range(len(d2)):\n",
    "     print(pop())\n"
   ],
   "metadata": {
    "collapsed": false,
    "ExecuteTime": {
     "end_time": "2024-04-26T06:52:54.959042Z",
     "start_time": "2024-04-26T06:52:54.950328Z"
    }
   },
   "execution_count": 36
  },
  {
   "cell_type": "code",
   "outputs": [
    {
     "data": {
      "text/plain": "1"
     },
     "execution_count": 11,
     "metadata": {},
     "output_type": "execute_result"
    }
   ],
   "source": [],
   "metadata": {
    "collapsed": false,
    "ExecuteTime": {
     "end_time": "2024-04-26T05:29:46.285950Z",
     "start_time": "2024-04-26T05:29:46.282754Z"
    }
   },
   "execution_count": 11
  },
  {
   "cell_type": "markdown",
   "source": [],
   "metadata": {
    "collapsed": false
   }
  },
  {
   "cell_type": "markdown",
   "source": [],
   "metadata": {
    "collapsed": false
   }
  }
 ],
 "metadata": {
  "kernelspec": {
   "display_name": "Python 3",
   "language": "python",
   "name": "python3"
  },
  "language_info": {
   "codemirror_mode": {
    "name": "ipython",
    "version": 2
   },
   "file_extension": ".py",
   "mimetype": "text/x-python",
   "name": "python",
   "nbconvert_exporter": "python",
   "pygments_lexer": "ipython2",
   "version": "2.7.6"
  }
 },
 "nbformat": 4,
 "nbformat_minor": 0
}
