{
 "cells": [
  {
   "cell_type": "code",
   "execution_count": 32,
   "id": "initial_id",
   "metadata": {
    "collapsed": true,
    "ExecuteTime": {
     "end_time": "2024-05-08T06:17:33.838385Z",
     "start_time": "2024-05-08T06:17:31.313639Z"
    }
   },
   "outputs": [
    {
     "name": "stdout",
     "output_type": "stream",
     "text": [
      "16437\n"
     ]
    }
   ],
   "source": [
    "A, B, C = map(int, input().split())\n",
    "\n",
    "A = A % C\n",
    "\n",
    "def half_recur(a, b):\n",
    "    if b == 1:\n",
    "        return A\n",
    "    if b % 2 == 0:\n",
    "        return (half_recur(A, b/2)) * (half_recur(A, b/2)) % C\n",
    "    else:\n",
    "        return ((half_recur(A, (b-1) / 2)) * (half_recur(A, (b-1) / 2)) * A) % C\n",
    "\n",
    "answer = half_recur(A, B)\n",
    "    \n",
    "print(answer)"
   ]
  }
 ],
 "metadata": {
  "kernelspec": {
   "display_name": "Python 3",
   "language": "python",
   "name": "python3"
  },
  "language_info": {
   "codemirror_mode": {
    "name": "ipython",
    "version": 2
   },
   "file_extension": ".py",
   "mimetype": "text/x-python",
   "name": "python",
   "nbconvert_exporter": "python",
   "pygments_lexer": "ipython2",
   "version": "2.7.6"
  }
 },
 "nbformat": 4,
 "nbformat_minor": 5
}
