{
 "cells": [
  {
   "cell_type": "markdown",
   "source": [
    "backjoon1916 - 최소비용 구하기"
   ],
   "metadata": {
    "collapsed": false
   }
  },
  {
   "cell_type": "code",
   "execution_count": 82,
   "metadata": {
    "collapsed": true,
    "ExecuteTime": {
     "end_time": "2024-02-13T09:03:19.610842900Z",
     "start_time": "2024-02-13T09:02:55.685787600Z"
    }
   },
   "outputs": [
    {
     "name": "stdout",
     "output_type": "stream",
     "text": [
      "4\n"
     ]
    }
   ],
   "source": [
    "N = int(input())\n",
    "M = int(input())\n",
    "edges = [(lambda i,j,k: {'start': int(i)-1, 'end': int(j)-1, 'cost': int(k)})(*(input().split())) for i in range(M)]\n",
    "start, end = map(int, input().split())\n",
    "\n",
    "costs = [100000] * N\n",
    "visited = [False] * N\n",
    "tmpList = []\n",
    "\n",
    "def visit(node):\n",
    "    visited[node] = True\n",
    "    connected = filter(lambda _:_.get('start') == node, edges)\n",
    "\n",
    "    for i in connected:\n",
    "        if not visited[i.get('end')]:\n",
    "            tmpList.append(i.get('end'))\n",
    "        if costs[i.get('start')] + i.get('cost') < costs[i.get('end')]:\n",
    "            costs[i.get('end')] = costs[i.get('start')] + i.get('cost')\n",
    "\n",
    "costs[start-1] = 0\n",
    "tmpList.append(start-1)\n",
    "\n",
    "while len(tmpList) > 0:\n",
    "    tmpCost = [100000] * N\n",
    "    for index, value in enumerate(visited):\n",
    "        if value: continue\n",
    "        else: tmpCost[index] = costs[index]\n",
    "    target = tmpCost.index(min(tmpCost))\n",
    "    if tmpCost[target] == 100000: break\n",
    "    tmpList.pop(tmpList.index(target))\n",
    "    visit(target)\n",
    "\n",
    "print(costs[end-1])\n",
    "\n",
    "\n"
   ]
  },
  {
   "cell_type": "code",
   "execution_count": 27,
   "outputs": [
    {
     "name": "stdout",
     "output_type": "stream",
     "text": [
      "[[9999, 9999], [9999, 9999]]\n"
     ]
    }
   ],
   "source": [],
   "metadata": {
    "collapsed": false,
    "ExecuteTime": {
     "end_time": "2024-02-13T07:25:44.059829Z",
     "start_time": "2024-02-13T07:25:44.019825700Z"
    }
   }
  }
 ],
 "metadata": {
  "kernelspec": {
   "display_name": "Python 3",
   "language": "python",
   "name": "python3"
  },
  "language_info": {
   "codemirror_mode": {
    "name": "ipython",
    "version": 2
   },
   "file_extension": ".py",
   "mimetype": "text/x-python",
   "name": "python",
   "nbconvert_exporter": "python",
   "pygments_lexer": "ipython2",
   "version": "2.7.6"
  }
 },
 "nbformat": 4,
 "nbformat_minor": 0
}
