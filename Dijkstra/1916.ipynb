{
 "cells": [
  {
   "cell_type": "markdown",
   "source": [
    "backjoon1916 - 최소비용 구하기"
   ],
   "metadata": {
    "collapsed": false
   }
  },
  {
   "cell_type": "code",
   "execution_count": 5,
   "metadata": {
    "collapsed": true,
    "ExecuteTime": {
     "end_time": "2024-02-14T01:36:01.345997600Z",
     "start_time": "2024-02-14T01:35:53.962824300Z"
    }
   },
   "outputs": [
    {
     "name": "stdout",
     "output_type": "stream",
     "text": [
      "3\n"
     ]
    }
   ],
   "source": [
    "N = int(input())\n",
    "M = int(input())\n",
    "edges = [(lambda i,j,k: {'start': int(i)-1, 'end': int(j)-1, 'cost': int(k)})(*(input().split())) for i in range(M)]\n",
    "start, end = map(int, input().split())\n",
    "\n",
    "costs = [100000] * N #비용은 100000 미만\n",
    "visited = [False] * N\n",
    "tmpList = [] # 방문할 노드들\n",
    "\n",
    "def visit(node):\n",
    "    visited[node] = True #방문 처리\n",
    "    connected = filter(lambda _:_.get('start') == node, edges) #연결된 노드들\n",
    "\n",
    "    for i in connected:\n",
    "        if not visited[i.get('end')]:\n",
    "            tmpList.append(i.get('end'))\n",
    "        if costs[i.get('start')] + i.get('cost') < costs[i.get('end')]:\n",
    "            costs[i.get('end')] = costs[i.get('start')] + i.get('cost')\n",
    "\n",
    "# 방문할 노드중 최소 비용인 노드를 반환\n",
    "def getNext():\n",
    "    minimum_cost_i = -1\n",
    "    minimum_cost = 100000\n",
    "    for i in tmpList:\n",
    "        if costs[i] < minimum_cost:\n",
    "            minimum_cost = costs[i]\n",
    "            minimum_cost_i = i\n",
    "    return minimum_cost_i\n",
    "\n",
    "costs[start-1] = 0\n",
    "tmpList.append(start-1)\n",
    "\n",
    "while len(tmpList) > 0:\n",
    "    visit(tmpList.pop(tmpList.index(getNext())))\n",
    "\n",
    "print(costs[end-1])\n",
    "\n",
    "\n"
   ]
  }
 ],
 "metadata": {
  "kernelspec": {
   "display_name": "Python 3",
   "language": "python",
   "name": "python3"
  },
  "language_info": {
   "codemirror_mode": {
    "name": "ipython",
    "version": 2
   },
   "file_extension": ".py",
   "mimetype": "text/x-python",
   "name": "python",
   "nbconvert_exporter": "python",
   "pygments_lexer": "ipython2",
   "version": "2.7.6"
  }
 },
 "nbformat": 4,
 "nbformat_minor": 0
}
