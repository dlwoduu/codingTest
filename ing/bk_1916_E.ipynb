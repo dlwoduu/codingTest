{
 "cells": [
  {
   "cell_type": "markdown",
   "source": [
    "시간초과"
   ],
   "metadata": {
    "collapsed": false
   }
  },
  {
   "cell_type": "markdown",
   "source": [
    "backjoon1916 - 최소비용 구하기"
   ],
   "metadata": {
    "collapsed": false
   }
  },
  {
   "cell_type": "code",
   "execution_count": 5,
   "metadata": {
    "collapsed": true,
    "ExecuteTime": {
     "end_time": "2024-02-14T01:36:01.345997600Z",
     "start_time": "2024-02-14T01:35:53.962824300Z"
    }
   },
   "outputs": [
    {
     "name": "stdout",
     "output_type": "stream",
     "text": [
      "3\n"
     ]
    }
   ],
   "source": [
    "from collections import defaultdict\n",
    "\n",
    "N = int(input())\n",
    "M = int(input())\n",
    "edges = [(lambda i,j,k: {'start': int(i)-1, 'end': int(j)-1, 'cost': int(k)})(*(input().split())) for i in range(M)]\n",
    "start, end = map(int, input().split())\n",
    "\n",
    "costs = [100000] * N #비용은 100000 미만\n",
    "visited = [False] * N\n",
    "tmpList = [] # 방문할 노드들\n",
    "\n",
    "def visit(node):\n",
    "    visited[node] = True #방문 처리\n",
    "    connected = filter(lambda _:_.get('start') == node, edges) #연결된 노드들\n",
    "\n",
    "    for i in connected:\n",
    "        if not visited[i.get('end')]:\n",
    "            tmpList.append(i.get('end'))\n",
    "        if costs[i.get('start')] + i.get('cost') < costs[i.get('end')]:\n",
    "            costs[i.get('end')] = costs[i.get('start')] + i.get('cost')\n",
    "\n",
    "# 방문할 노드중 최소 비용인 노드를 반환\n",
    "def getNext():\n",
    "    minimum_cost_i = -1\n",
    "    minimum_cost = 100000\n",
    "    for i in tmpList:\n",
    "        if costs[i] < minimum_cost:\n",
    "            minimum_cost = costs[i]\n",
    "            minimum_cost_i = i\n",
    "    return minimum_cost_i\n",
    "\n",
    "costs[start-1] = 0\n",
    "tmpList.append(start-1)\n",
    "\n",
    "while len(tmpList) > 0:\n",
    "    visit(tmpList.pop(tmpList.index(getNext())))\n",
    "\n",
    "print(costs[end-1])\n",
    "\n",
    "\n"
   ]
  },
  {
   "cell_type": "code",
   "outputs": [
    {
     "name": "stdout",
     "output_type": "stream",
     "text": [
      "[0, 3]\n",
      "3\n"
     ]
    }
   ],
   "source": [
    "N = int(input())\n",
    "M = int(input())\n",
    "\n",
    "edges = [(lambda i,j,k: {'start': i - 1 , 'end': j - 1, 'cost': k})(*map(int,input().split())) for _ in range(M)]\n",
    "start, end = map(int, input().split())\n",
    "\n",
    "costs = [10000] * N\n",
    "visited = []\n",
    "plannedVisit = []\n",
    "\n",
    "def visit(node):\n",
    "    visited.append(node)\n",
    "    neighbors = filter(lambda i: i.get('start') == node, edges)\n",
    "    \n",
    "    for neighbor in neighbors:\n",
    "        if neighbor.get('end') not in visited:\n",
    "            plannedVisit.append(neighbor.get('end'))\n",
    "            \n",
    "        if costs[neighbor.get('end')] > costs[neighbor.get('start')] + neighbor.get('cost'):\n",
    "           costs[neighbor.get('end')] = costs[neighbor.get('start')] + neighbor.get('cost')\n",
    "        \n",
    "                \n",
    "\n",
    "costs[start-1] = 0\n",
    "plannedVisit.append(start-1)\n",
    "while len(plannedVisit) > 0:\n",
    "    cost_min_i = -1\n",
    "    cost_min = 10000\n",
    "    for i in range(N):\n",
    "        if i in visited: pass\n",
    "        else:\n",
    "            if cost_min > costs[i]:\n",
    "                cost_min = costs[i]\n",
    "                cost_min_i = i\n",
    "                \n",
    "    if cost_min_i == -1 : break\n",
    "    plannedVisit.pop(plannedVisit.index(cost_min_i))\n",
    "    visit(cost_min_i)\n",
    "\n",
    "print(costs[end-1])\n"
   ],
   "metadata": {
    "collapsed": false,
    "ExecuteTime": {
     "end_time": "2024-03-14T04:38:31.959541Z",
     "start_time": "2024-03-14T04:38:27.012413Z"
    }
   },
   "execution_count": 22
  }
 ],
 "metadata": {
  "kernelspec": {
   "display_name": "Python 3",
   "language": "python",
   "name": "python3"
  },
  "language_info": {
   "codemirror_mode": {
    "name": "ipython",
    "version": 2
   },
   "file_extension": ".py",
   "mimetype": "text/x-python",
   "name": "python",
   "nbconvert_exporter": "python",
   "pygments_lexer": "ipython2",
   "version": "2.7.6"
  }
 },
 "nbformat": 4,
 "nbformat_minor": 0
}
