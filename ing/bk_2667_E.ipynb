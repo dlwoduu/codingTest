{
 "cells": [
  {
   "cell_type": "code",
   "execution_count": 1,
   "id": "initial_id",
   "metadata": {
    "collapsed": true,
    "ExecuteTime": {
     "end_time": "2024-04-25T04:47:42.710323Z",
     "start_time": "2024-04-25T04:47:38.504156Z"
    }
   },
   "outputs": [
    {
     "name": "stdout",
     "output_type": "stream",
     "text": [
      "[[False, False, False], [False, False, False], [False, False, False]]\n"
     ]
    }
   ],
   "source": [
    "N = int(input())\n",
    "# 1 or 0\n",
    "d = [[int(input()) for _ in range(N)] for _ in range(N)]\n",
    "\n",
    "directions = [(1,0),(-1,0),(0,1),(0,-1)]\n",
    "\n",
    "queue = []\n",
    "group_count = []\n",
    "member_count = 0\n",
    "\n",
    "def _search():\n",
    "    global member_count\n",
    "    \n",
    "    curr = queue.pop(0)\n",
    "    d[curr[0]][curr[1]] = 1\n",
    "    member_count += 1\n",
    "    \n",
    "    while len(queue) > 0:\n",
    "        for direction in directions:\n",
    "            if 0 <= curr[0]+direction[0] < N and 0 <= curr[1]+direction[1] < N:\n",
    "                queue.append((curr[0] + direction[0], curr[1] + direction[1]))\n",
    "    \n",
    "    \n",
    "\n",
    "for i in range(N):\n",
    "    for j in range(N):\n",
    "        if d[i][j] == 1:\n",
    "            continue\n",
    "        else:\n",
    "            queue.append((i,j))\n",
    "            member_count = 0\n",
    "            _search()\n",
    "            group_count.append(member_count)"
   ]
  },
  {
   "cell_type": "code",
   "outputs": [],
   "source": [],
   "metadata": {
    "collapsed": false
   },
   "id": "40b82b595cbc9aeb"
  }
 ],
 "metadata": {
  "kernelspec": {
   "display_name": "Python 3",
   "language": "python",
   "name": "python3"
  },
  "language_info": {
   "codemirror_mode": {
    "name": "ipython",
    "version": 2
   },
   "file_extension": ".py",
   "mimetype": "text/x-python",
   "name": "python",
   "nbconvert_exporter": "python",
   "pygments_lexer": "ipython2",
   "version": "2.7.6"
  }
 },
 "nbformat": 4,
 "nbformat_minor": 5
}
