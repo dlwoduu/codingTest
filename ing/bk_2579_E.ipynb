{
 "cells": [
  {
   "cell_type": "markdown",
   "source": [
    "런타임 에러 (index-error)"
   ],
   "metadata": {
    "collapsed": false
   }
  },
  {
   "cell_type": "code",
   "execution_count": 6,
   "id": "initial_id",
   "metadata": {
    "collapsed": true,
    "ExecuteTime": {
     "end_time": "2024-04-24T09:13:35.273421Z",
     "start_time": "2024-04-24T09:13:30.804226Z"
    }
   },
   "outputs": [
    {
     "name": "stdout",
     "output_type": "stream",
     "text": [
      "75\n"
     ]
    }
   ],
   "source": [
    "N = int(input())\n",
    "\n",
    "scores = [int(input()) for _ in range(N)]\n",
    "\n",
    "#[1칸 2칸 가능, 2칸만 가능]\n",
    "d = [[scores[0], scores[0]], [scores[1], scores[0] + scores[1]]]\n",
    "\n",
    "for i in range(2, N):\n",
    "    tmp = [0,0]\n",
    "    max_2step_before = max(d[i-2])\n",
    "    if max_2step_before >= d[i-1][0]:\n",
    "        tmp[0] = tmp[1] = max_2step_before + scores[i]\n",
    "    else:\n",
    "        tmp[0] = max_2step_before + scores[i] #2칸 전에서 2칸감\n",
    "        tmp[1] = d[i-1][0] + scores[i] #1칸전에서 1칸감\n",
    "        \n",
    "    d.append(tmp)\n",
    "    \n",
    "print(max(d[N-1]))"
   ]
  }
 ],
 "metadata": {
  "kernelspec": {
   "display_name": "Python 3",
   "language": "python",
   "name": "python3"
  },
  "language_info": {
   "codemirror_mode": {
    "name": "ipython",
    "version": 2
   },
   "file_extension": ".py",
   "mimetype": "text/x-python",
   "name": "python",
   "nbconvert_exporter": "python",
   "pygments_lexer": "ipython2",
   "version": "2.7.6"
  }
 },
 "nbformat": 4,
 "nbformat_minor": 5
}
