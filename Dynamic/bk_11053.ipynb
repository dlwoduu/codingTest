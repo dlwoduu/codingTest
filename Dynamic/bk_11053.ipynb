{
 "cells": [
  {
   "cell_type": "code",
   "outputs": [
    {
     "name": "stdout",
     "output_type": "stream",
     "text": [
      "4\n"
     ]
    }
   ],
   "source": [
    "N = int(input())\n",
    "\n",
    "A = [False] * 1001\n",
    "answer = 0\n",
    "\n",
    "for i in range(N):\n",
    "    _tmp = int(input())\n",
    "    if not A[_tmp]:\n",
    "        A[_tmp] = True\n",
    "        answer += 1\n",
    "        \n",
    "print(answer)    "
   ],
   "metadata": {
    "collapsed": false,
    "ExecuteTime": {
     "end_time": "2024-05-03T04:50:51.815132Z",
     "start_time": "2024-05-03T04:50:43.643895Z"
    }
   },
   "id": "7e07075fe943dbf0",
   "execution_count": 1
  }
 ],
 "metadata": {
  "kernelspec": {
   "display_name": "Python 3",
   "language": "python",
   "name": "python3"
  },
  "language_info": {
   "codemirror_mode": {
    "name": "ipython",
    "version": 2
   },
   "file_extension": ".py",
   "mimetype": "text/x-python",
   "name": "python",
   "nbconvert_exporter": "python",
   "pygments_lexer": "ipython2",
   "version": "2.7.6"
  }
 },
 "nbformat": 4,
 "nbformat_minor": 5
}
