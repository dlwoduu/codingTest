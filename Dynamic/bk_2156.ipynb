{
 "cells": [
  {
   "cell_type": "code",
   "execution_count": 7,
   "id": "initial_id",
   "metadata": {
    "collapsed": true,
    "ExecuteTime": {
     "end_time": "2024-05-03T02:22:38.238362Z",
     "start_time": "2024-05-03T02:22:31.367947Z"
    }
   },
   "outputs": [
    {
     "name": "stdout",
     "output_type": "stream",
     "text": [
      "33\n"
     ]
    }
   ],
   "source": [
    "N = int(input())\n",
    "\n",
    "wines = [ int(input()) for _ in range(N)]\n",
    "\n",
    "d = [wines[0], wines[0] + wines[1]]\n",
    "d.append(max(wines[0], wines[1]) + wines[2])\n",
    "\n",
    "for i in range(3, N):\n",
    "    d.append(max(d[i-2] + wines[i], d[i-3] + wines[i-1] + wines[i]))\n",
    "    \n",
    "print(max(d[N-1],d[N-2]))"
   ]
  }
 ],
 "metadata": {
  "kernelspec": {
   "display_name": "Python 3",
   "language": "python",
   "name": "python3"
  },
  "language_info": {
   "codemirror_mode": {
    "name": "ipython",
    "version": 2
   },
   "file_extension": ".py",
   "mimetype": "text/x-python",
   "name": "python",
   "nbconvert_exporter": "python",
   "pygments_lexer": "ipython2",
   "version": "2.7.6"
  }
 },
 "nbformat": 4,
 "nbformat_minor": 5
}
