{
 "cells": [
  {
   "cell_type": "markdown",
   "source": [
    "N*M 크기의 지도가 주어집니다.\n",
    "A,B,d -> 최초 위치와 바라보고 있는 방향입니다.\n",
    "지도는 0,1로 이루어져 있고, 육지만 갈 수 있습니다 (0: 육지, 1: 바다)\n",
    "방향 정보입니다. (0:북, 1:동, 2:남, 3:서)\n",
    "\n",
    "1. 왼쪽으로 돌고 그 방향으로 갈 수있는지 봅니다. (바다이거나, 가본곳이면 안갑니다.)\n",
    "2. 4방향을 다 봤으면, 뒤로 갑니다. 뒤가 바다이거나 맵 끝이면 멈춥니다.\n",
    "\n",
    "몇개의 육지를 갔는지 출력합니다."
   ],
   "metadata": {
    "collapsed": false
   }
  },
  {
   "cell_type": "code",
   "execution_count": 9,
   "metadata": {
    "collapsed": true,
    "ExecuteTime": {
     "end_time": "2024-02-15T06:53:12.631975600Z",
     "start_time": "2024-02-15T06:53:00.477897500Z"
    }
   },
   "outputs": [
    {
     "name": "stdout",
     "output_type": "stream",
     "text": [
      "3\n"
     ]
    }
   ],
   "source": [
    "N,M = map(int, input().split())\n",
    "A,B,d = map(int, input().split())\n",
    "map_ = [list(map(int,input().split())) for i in range(N)]\n",
    "\n",
    "visited = []\n",
    "location = [A,B]\n",
    "\n",
    "d_count = 0\n",
    "direction = [[0,-1], [1,0], [0,1], [-1,0]]\n",
    "\n",
    "while True:\n",
    "    d = (d - 1) % 4 #돌음\n",
    "    d_count = d_count + 1\n",
    "\n",
    "    next_step = [x+y for x,y in zip(location, direction[d])]\n",
    "\n",
    "    if map_[next_step[0]][next_step[1]] : pass\n",
    "    elif next_step in visited: pass\n",
    "    elif not (0 <= next_step[0] < N and 0 <= next_step[0] < M) : pass\n",
    "    else: # 전진가능\n",
    "        location = next_step # 이동\n",
    "        d_count = 0 # 이동했으면 카운트 초기화\n",
    "        visited.append(location)  # 방문이력\n",
    "        continue\n",
    "\n",
    "    # 이동을 못하면서, 4방향 보았을 경우 종료 / 후진 판단\n",
    "    if d_count == 4:\n",
    "            next_step = [x-y for x,y in zip(location, direction[d])]\n",
    "            if map_[next_step[0]][next_step[1]]: break\n",
    "            if not (0 <= next_step[0] < N and 0 <= next_step[0] < M) : break\n",
    "            else:\n",
    "                location = next_step # 후진, 방문한 곳이기 때문에 visited에는 넣지 않음\n",
    "                d_count = 0 # 이동했으면 카운트 초기화\n",
    "\n",
    "print(len(visited))\n",
    "\n"
   ]
  }
 ],
 "metadata": {
  "kernelspec": {
   "display_name": "Python 3",
   "language": "python",
   "name": "python3"
  },
  "language_info": {
   "codemirror_mode": {
    "name": "ipython",
    "version": 2
   },
   "file_extension": ".py",
   "mimetype": "text/x-python",
   "name": "python",
   "nbconvert_exporter": "python",
   "pygments_lexer": "ipython2",
   "version": "2.7.6"
  }
 },
 "nbformat": 4,
 "nbformat_minor": 0
}
