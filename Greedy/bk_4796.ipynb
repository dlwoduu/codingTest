{
 "cells": [
  {
   "cell_type": "markdown",
   "source": [],
   "metadata": {
    "collapsed": false
   },
   "id": "d589f71de326aa65"
  },
  {
   "cell_type": "code",
   "execution_count": 9,
   "id": "initial_id",
   "metadata": {
    "collapsed": true,
    "ExecuteTime": {
     "end_time": "2024-03-18T06:00:45.023459Z",
     "start_time": "2024-03-18T06:00:36.886367Z"
    }
   },
   "outputs": [
    {
     "name": "stdout",
     "output_type": "stream",
     "text": [
      "Case $1: $14\n",
      "Case $2: $11\n"
     ]
    }
   ],
   "source": [
    "case = []\n",
    "L,P,V = map(int, input().split())\n",
    "\n",
    "while (L,P,V) != (0,0,0):\n",
    "    case.append((L,P,V))\n",
    "    L,P,V = map(int, input().split())\n",
    "    \n",
    "for i in range(len(case)):\n",
    "    L,P,V = case[i]\n",
    "    rest = 0\n",
    "    if  V%P > L:\n",
    "        rest = L\n",
    "    else : rest = V%P \n",
    "    answer = (V//P * L) + rest\n",
    "    print(f\"Case {i+1}: {answer}\")\n",
    "    "
   ]
  }
 ],
 "metadata": {
  "kernelspec": {
   "display_name": "Python 3",
   "language": "python",
   "name": "python3"
  },
  "language_info": {
   "codemirror_mode": {
    "name": "ipython",
    "version": 2
   },
   "file_extension": ".py",
   "mimetype": "text/x-python",
   "name": "python",
   "nbconvert_exporter": "python",
   "pygments_lexer": "ipython2",
   "version": "2.7.6"
  }
 },
 "nbformat": 4,
 "nbformat_minor": 5
}
