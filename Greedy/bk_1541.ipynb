{
 "cells": [
  {
   "cell_type": "code",
   "execution_count": 6,
   "id": "initial_id",
   "metadata": {
    "collapsed": true,
    "ExecuteTime": {
     "end_time": "2024-05-07T07:29:13.826454Z",
     "start_time": "2024-05-07T07:29:07.643739Z"
    }
   },
   "outputs": [
    {
     "name": "stdout",
     "output_type": "stream",
     "text": [
      "90\n",
      "['000099', '-', '009']\n"
     ]
    }
   ],
   "source": [
    "_input = input()\n",
    "\n",
    "_d = []\n",
    "_tmp = ''\n",
    "for i,c in enumerate(_input):\n",
    "    if ord('0') <= ord(c) <= ord('9'):\n",
    "        _tmp = _tmp + c\n",
    "        if i == len(_input)-1:\n",
    "            _d.append(_tmp)\n",
    "    else:\n",
    "        _d.append(_tmp)\n",
    "        _tmp = ''\n",
    "        _d.append(c)\n",
    "\n",
    "\n",
    "answer = 0\n",
    "_min_flag = False\n",
    "\n",
    "for c in _d:\n",
    "    if c =='-':\n",
    "        _min_flag = True\n",
    "    elif c != '+': \n",
    "        if not _min_flag:\n",
    "            answer = answer + int(c)\n",
    "        else:\n",
    "            answer = answer - int(c)\n",
    "\n",
    "print(answer)\n"
   ]
  },
  {
   "cell_type": "markdown",
   "source": [],
   "metadata": {
    "collapsed": false
   },
   "id": "8d01a8bb78313d05"
  },
  {
   "cell_type": "markdown",
   "source": [],
   "metadata": {
    "collapsed": false
   },
   "id": "57719b5eb945f5e0"
  }
 ],
 "metadata": {
  "kernelspec": {
   "display_name": "Python 3",
   "language": "python",
   "name": "python3"
  },
  "language_info": {
   "codemirror_mode": {
    "name": "ipython",
    "version": 2
   },
   "file_extension": ".py",
   "mimetype": "text/x-python",
   "name": "python",
   "nbconvert_exporter": "python",
   "pygments_lexer": "ipython2",
   "version": "2.7.6"
  }
 },
 "nbformat": 4,
 "nbformat_minor": 5
}
