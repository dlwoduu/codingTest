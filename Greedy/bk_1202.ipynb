{
 "cells": [
  {
   "cell_type": "code",
   "execution_count": 3,
   "id": "initial_id",
   "metadata": {
    "collapsed": true,
    "ExecuteTime": {
     "end_time": "2024-03-18T02:19:02.190971Z",
     "start_time": "2024-03-18T02:18:56.398513Z"
    }
   },
   "outputs": [
    {
     "name": "stdout",
     "output_type": "stream",
     "text": [
      "10\n"
     ]
    }
   ],
   "source": [
    "# N = 보석갯수, K = 가방 수\n",
    "N, K = map(int, input().split())\n",
    "\n",
    "M = [] # 무게\n",
    "V = [] # 가치\n",
    "\n",
    "for i in range(N):\n",
    "    Mi, Vi = map(int, input().split())\n",
    "    M.append(Mi)\n",
    "    V.append(Vi)\n",
    "\n",
    "# 가방별 최대 무게\n",
    "C = [ int(input()) for i in range(K)]\n",
    "\n",
    "Pick = []\n",
    "\n",
    "C.sort(reverse=True)\n",
    "for i in range(K):\n",
    "    max_V = 0\n",
    "    for j in range(N):\n",
    "        if C[i] > M[j] and V[j] > max_V:\n",
    "            max_V = V[j]\n",
    "            \n",
    "    M.pop(V.index(max_V))\n",
    "    V.pop(V.index(max_V))\n",
    "    Pick.append(max_V)\n",
    "    \n",
    "print(sum(Pick))\n",
    "    "
   ]
  }
 ],
 "metadata": {
  "kernelspec": {
   "display_name": "Python 3",
   "language": "python",
   "name": "python3"
  },
  "language_info": {
   "codemirror_mode": {
    "name": "ipython",
    "version": 2
   },
   "file_extension": ".py",
   "mimetype": "text/x-python",
   "name": "python",
   "nbconvert_exporter": "python",
   "pygments_lexer": "ipython2",
   "version": "2.7.6"
  }
 },
 "nbformat": 4,
 "nbformat_minor": 5
}
