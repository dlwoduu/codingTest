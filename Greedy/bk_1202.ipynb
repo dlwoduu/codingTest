{
 "cells": [
  {
   "cell_type": "code",
   "execution_count": 3,
   "id": "initial_id",
   "metadata": {
    "collapsed": true,
    "ExecuteTime": {
     "end_time": "2024-03-18T02:19:02.190971Z",
     "start_time": "2024-03-18T02:18:56.398513Z"
    }
   },
   "outputs": [
    {
     "name": "stdout",
     "output_type": "stream",
     "text": [
      "10\n"
     ]
    }
   ],
   "source": [
    "# N = 보석갯수, K = 가방 수\n",
    "N, K = map(int, input().split())\n",
    "\n",
    "M = [] # 무게\n",
    "V = [] # 가치\n",
    "\n",
    "for i in range(N):\n",
    "    Mi, Vi = map(int, input().split())\n",
    "    M.append(Mi)\n",
    "    V.append(Vi)\n",
    "\n",
    "# 가방별 최대 무게\n",
    "C = [ int(input()) for i in range(K)]\n",
    "\n",
    "Pick = []\n",
    "\n",
    "C.sort()\n",
    "for i in range(K):\n",
    "    max_V = 0\n",
    "    for j in range(N):\n",
    "        if C[i] >= M[j] and V[j] > max_V:\n",
    "            max_V = V[j]\n",
    "            \n",
    "    M.pop(V.index(max_V))\n",
    "    V.pop(V.index(max_V))\n",
    "    Pick.append(max_V)\n",
    "    \n",
    "print(sum(Pick))\n",
    "    "
   ]
  },
  {
   "cell_type": "code",
   "outputs": [
    {
     "name": "stdout",
     "output_type": "stream",
     "text": [
      "(7, 9)\n",
      "(4, 5)\n",
      "(1, 2)\n"
     ]
    }
   ],
   "source": [
    "N, K = map(int, input().split())\n",
    "\n",
    "def insert(d, value):\n",
    "    d.append(value)\n",
    "    \n",
    "    _curr = len(d) - 1\n",
    "    \n",
    "    while _curr > 0:\n",
    "        _parent = (_curr - 1) // 2\n",
    "        if d[_parent][1] < d[_curr][1]:\n",
    "            _tmp = d[_parent]\n",
    "            d[_parent] = d[_curr]\n",
    "            d[_curr] = _tmp\n",
    "            _curr = _parent\n",
    "        else: break\n",
    "        \n",
    "def pop(d):\n",
    "    if len(d) == 1 : \n",
    "        return d.pop()\n",
    "    _return_value = d[0]\n",
    "    d[0] = d.pop()\n",
    "    \n",
    "    _curr = 0\n",
    "    while _curr * 2 + 2 < len(d):\n",
    "        _left =  _curr * 2 + 1\n",
    "        _right =  _curr * 2 + 2\n",
    "        \n",
    "        if d[_left][1] > d[_right][1] and d[_left][1] > d[_curr][1]:\n",
    "            _tmp = d[_left]\n",
    "            d[_left] = d[_curr]\n",
    "            d[_curr] = _tmp\n",
    "            _curr = _left\n",
    "        elif d[_right][1] > d[_left][1] and d[_right][1] > d[_curr][1]:\n",
    "            _tmp = d[_right]\n",
    "            d[_right] = d[_curr]\n",
    "            d[_curr] = _tmp\n",
    "            _curr = _right\n",
    "        else:\n",
    "            break\n",
    "            \n",
    "    if _curr * 2 + 1 < len(d):\n",
    "        _left =  _curr * 2 + 1\n",
    "        if d[_left][1] > d[_curr][1]:\n",
    "            _tmp = d[_left]\n",
    "            d[_left] = d[_curr]\n",
    "            d[_curr] = _tmp\n",
    "        \n",
    "    return _return_value\n",
    "\n",
    "# 보석들 (무게, 가치)\n",
    "gems = [(lambda _i,_j: (int(_i), int(_j)))(*input().split()) for _ in range(N)]\n",
    "# 가방 용량\n",
    "C = [ int(input()) for i in range(K)]\n",
    "\n",
    "# 무게 순으로 오름차 순 정렬\n",
    "gems.sort(key= lambda _: _[0]) # 무게 순으로 오름차 순 정렬\n",
    "# 용량별 정렬\n",
    "C.sort()\n",
    "\n",
    "pq = []\n",
    "answer = 0\n",
    "for bag in K: # 가방에 대한 반복\n",
    "    for gem in gems:\n",
    "        if bag >= gem[0]:\n",
    "            insert(pq, gem)\n",
    "        elif len(pq) > 0 :\n",
    "            _gem_to_add = pop(pq)\n",
    "            answer += _gem_to_add[1]\n",
    "            break\n",
    "            \n",
    "print(answer)\n"
   ],
   "metadata": {
    "collapsed": false,
    "ExecuteTime": {
     "end_time": "2024-04-29T09:07:01.505059Z",
     "start_time": "2024-04-29T09:06:56.470365Z"
    }
   },
   "id": "6e03a7b39a2020b6",
   "execution_count": 7
  },
  {
   "cell_type": "code",
   "outputs": [
    {
     "name": "stdout",
     "output_type": "stream",
     "text": [
      "[[3, 1], [1, 2]]\n"
     ]
    }
   ],
   "source": [
    "_list = [[1,2],[3,1]]\n",
    "_list.sort(key=lambda _:_[1])\n",
    "\n",
    "print(_list)"
   ],
   "metadata": {
    "collapsed": false,
    "ExecuteTime": {
     "end_time": "2024-05-02T05:06:22.895811Z",
     "start_time": "2024-05-02T05:06:22.893417Z"
    }
   },
   "id": "d620e4038380c4aa",
   "execution_count": 3
  },
  {
   "cell_type": "code",
   "outputs": [],
   "source": [],
   "metadata": {
    "collapsed": false
   },
   "id": "e60a029d347524af"
  }
 ],
 "metadata": {
  "kernelspec": {
   "display_name": "Python 3",
   "language": "python",
   "name": "python3"
  },
  "language_info": {
   "codemirror_mode": {
    "name": "ipython",
    "version": 2
   },
   "file_extension": ".py",
   "mimetype": "text/x-python",
   "name": "python",
   "nbconvert_exporter": "python",
   "pygments_lexer": "ipython2",
   "version": "2.7.6"
  }
 },
 "nbformat": 4,
 "nbformat_minor": 5
}
