{
 "cells": [
  {
   "cell_type": "code",
   "execution_count": 4,
   "id": "initial_id",
   "metadata": {
    "collapsed": true,
    "ExecuteTime": {
     "end_time": "2024-04-24T07:45:11.081533Z",
     "start_time": "2024-04-24T07:45:02.088610Z"
    }
   },
   "outputs": [
    {
     "name": "stdout",
     "output_type": "stream",
     "text": [
      "96\n"
     ]
    }
   ],
   "source": [
    "N = int(input())\n",
    "costs = [list(map(int, input().split())) for _ in range(N)]\n",
    "\n",
    "d = [costs[0]]\n",
    "for i in range(1, N):\n",
    "    d.append([min(d[i-1][1], d[i-1][2]) + costs[i][0], min(d[i-1][0], d[i-1][2]) + costs[i][1], min(d[i-1][0], d[i-1][1]) + costs[i][2]])\n",
    "\n",
    "print(min(d[N-1]))"
   ]
  },
  {
   "cell_type": "code",
   "outputs": [],
   "source": [],
   "metadata": {
    "collapsed": false
   },
   "id": "758bcdaf0b54bd75"
  }
 ],
 "metadata": {
  "kernelspec": {
   "display_name": "Python 3",
   "language": "python",
   "name": "python3"
  },
  "language_info": {
   "codemirror_mode": {
    "name": "ipython",
    "version": 2
   },
   "file_extension": ".py",
   "mimetype": "text/x-python",
   "name": "python",
   "nbconvert_exporter": "python",
   "pygments_lexer": "ipython2",
   "version": "2.7.6"
  }
 },
 "nbformat": 4,
 "nbformat_minor": 5
}
