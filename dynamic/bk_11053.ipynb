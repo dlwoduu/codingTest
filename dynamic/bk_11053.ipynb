{
 "cells": [
  {
   "cell_type": "code",
   "outputs": [
    {
     "name": "stdout",
     "output_type": "stream",
     "text": [
      "4\n"
     ]
    }
   ],
   "source": [
    "N = int(input())\n",
    "\n",
    "answer = 0\n",
    "\n",
    "_init = int(input())\n",
    "_d = [_init]\n",
    "\n",
    "for i in range(1,N):\n",
    "    _tmp = int(input())\n",
    "    if _tmp > _d[len(_d)-1]:\n",
    "        _d.append(_tmp)\n",
    "    else:\n",
    "        _d.pop()\n",
    "        _d.append(_tmp)\n",
    "        \n",
    "print(len(_d))"
   ],
   "metadata": {
    "collapsed": false,
    "ExecuteTime": {
     "end_time": "2024-05-07T06:23:22.456560Z",
     "start_time": "2024-05-07T06:23:15.380330Z"
    }
   },
   "id": "7e07075fe943dbf0",
   "execution_count": 7
  }
 ],
 "metadata": {
  "kernelspec": {
   "display_name": "Python 3",
   "language": "python",
   "name": "python3"
  },
  "language_info": {
   "codemirror_mode": {
    "name": "ipython",
    "version": 2
   },
   "file_extension": ".py",
   "mimetype": "text/x-python",
   "name": "python",
   "nbconvert_exporter": "python",
   "pygments_lexer": "ipython2",
   "version": "2.7.6"
  }
 },
 "nbformat": 4,
 "nbformat_minor": 5
}
