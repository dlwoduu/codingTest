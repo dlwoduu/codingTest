{
 "cells": [
  {
   "cell_type": "code",
   "execution_count": 22,
   "id": "initial_id",
   "metadata": {
    "collapsed": true,
    "ExecuteTime": {
     "end_time": "2024-04-24T06:13:00.069699Z",
     "start_time": "2024-04-24T06:12:57.587191Z"
    }
   },
   "outputs": [
    {
     "name": "stdout",
     "output_type": "stream",
     "text": [
      "832039\n",
      "28\n"
     ]
    }
   ],
   "source": [
    "dynamic_count = 0\n",
    "recur_count = 0\n",
    "\n",
    "n = int(input())\n",
    "\n",
    "def recur_fib(n):   \n",
    "    if n == 1 or n == 2:\n",
    "        return 1\n",
    "    else:\n",
    "        global recur_count\n",
    "        recur_count += 1\n",
    "        return recur_fib(n-1) + recur_fib(n-2)\n",
    "\n",
    "f = [0] * n\n",
    "f[1] = f[2] = 1\n",
    "\n",
    "def dynamic_fib(n):\n",
    "    global dynamic_count\n",
    "    dynamic_count += 1\n",
    "    f[n] = f[n-1] + f[n-2]\n",
    "\n",
    "recur_count += 1\n",
    "recur_fib(n)\n",
    "for i in range(2, n):\n",
    "    dynamic_fib(i)\n",
    "\n",
    "print(recur_count)\n",
    "print(dynamic_count)"
   ]
  }
 ],
 "metadata": {
  "kernelspec": {
   "display_name": "Python 3",
   "language": "python",
   "name": "python3"
  },
  "language_info": {
   "codemirror_mode": {
    "name": "ipython",
    "version": 2
   },
   "file_extension": ".py",
   "mimetype": "text/x-python",
   "name": "python",
   "nbconvert_exporter": "python",
   "pygments_lexer": "ipython2",
   "version": "2.7.6"
  }
 },
 "nbformat": 4,
 "nbformat_minor": 5
}
