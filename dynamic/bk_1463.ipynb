{
 "cells": [
  {
   "cell_type": "code",
   "execution_count": 4,
   "id": "initial_id",
   "metadata": {
    "collapsed": true,
    "ExecuteTime": {
     "end_time": "2024-04-24T07:08:49.113400Z",
     "start_time": "2024-04-24T07:08:48.241234Z"
    }
   },
   "outputs": [
    {
     "name": "stdout",
     "output_type": "stream",
     "text": [
      "3\n"
     ]
    }
   ],
   "source": [
    "N = int(input())\n",
    "\n",
    "d = [None] * (N + 1)\n",
    "\n",
    "d[N] = 0\n",
    "for i in range(N-1,0,-1):\n",
    "    if i * 3 <= N:\n",
    "        d[i] = min(d[i*3], d[i*2], d[i+1]) + 1\n",
    "    elif i * 2  <= N :\n",
    "        d[i] = min(d[i*2], d[i+1]) + 1\n",
    "    else:\n",
    "        d[i] = d[i+1] + 1\n",
    "    \n",
    "print(d[1])"
   ]
  },
  {
   "cell_type": "code",
   "outputs": [],
   "source": [],
   "metadata": {
    "collapsed": false
   },
   "id": "7229bec0b4ae1d6d"
  }
 ],
 "metadata": {
  "kernelspec": {
   "display_name": "Python 3",
   "language": "python",
   "name": "python3"
  },
  "language_info": {
   "codemirror_mode": {
    "name": "ipython",
    "version": 2
   },
   "file_extension": ".py",
   "mimetype": "text/x-python",
   "name": "python",
   "nbconvert_exporter": "python",
   "pygments_lexer": "ipython2",
   "version": "2.7.6"
  }
 },
 "nbformat": 4,
 "nbformat_minor": 5
}
