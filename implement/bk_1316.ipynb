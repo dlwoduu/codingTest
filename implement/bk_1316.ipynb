{
 "cells": [
  {
   "cell_type": "code",
   "execution_count": 25,
   "id": "initial_id",
   "metadata": {
    "collapsed": true,
    "ExecuteTime": {
     "end_time": "2024-04-23T06:32:33.748165Z",
     "start_time": "2024-04-23T06:32:27.809575Z"
    }
   },
   "outputs": [
    {
     "name": "stdout",
     "output_type": "stream",
     "text": [
      "3\n"
     ]
    }
   ],
   "source": [
    "N = int(input())\n",
    "\n",
    "_input = [input() for i in range(N)]\n",
    "\n",
    "\n",
    "def is_group_word(_word):\n",
    "    _flag = [False] * 26\n",
    "    for _index, _char in enumerate(_word):\n",
    "        if _index == 0 :\n",
    "            _flag[ord(_char) - ord('a')] = True\n",
    "            continue\n",
    "        elif _char == _word[_index-1]:\n",
    "            continue\n",
    "        else:\n",
    "            if _flag[ord(_char) - ord('a')]:\n",
    "                return False\n",
    "            else:\n",
    "                _flag[ord(_char) - ord('a')] = True\n",
    "    \n",
    "    return True    \n",
    "\n",
    "answer = 0\n",
    "for word in _input:\n",
    "    word_lower = word.lower()\n",
    "    if is_group_word(word_lower):\n",
    "        answer += 1\n",
    "        \n",
    "print(answer)\n",
    "    \n",
    "  "
   ]
  }
 ],
 "metadata": {
  "kernelspec": {
   "display_name": "Python 3",
   "language": "python",
   "name": "python3"
  },
  "language_info": {
   "codemirror_mode": {
    "name": "ipython",
    "version": 2
   },
   "file_extension": ".py",
   "mimetype": "text/x-python",
   "name": "python",
   "nbconvert_exporter": "python",
   "pygments_lexer": "ipython2",
   "version": "2.7.6"
  }
 },
 "nbformat": 4,
 "nbformat_minor": 5
}
