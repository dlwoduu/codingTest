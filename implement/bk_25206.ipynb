{
 "cells": [
  {
   "cell_type": "code",
   "execution_count": 18,
   "id": "initial_id",
   "metadata": {
    "collapsed": true,
    "ExecuteTime": {
     "end_time": "2024-04-23T05:06:54.663376Z",
     "start_time": "2024-04-23T05:06:54.656604Z"
    }
   },
   "outputs": [
    {
     "name": "stdout",
     "output_type": "stream",
     "text": [
      "3.2844827586206895\n"
     ]
    }
   ],
   "source": [
    "# file = open('../input', 'r').readlines()\n",
    "# _input = []\n",
    "# for line in file:\n",
    "#     _input.append((lambda i, j, k : { 'subject' : i, 'weight': float(j), 'grade': k})(*line.split()))\n",
    "\n",
    "_input = [(lambda i,j,k: {'subject': i, 'weight': float(j), 'grade': k})(*input().split()) for i in range(20)]\n",
    "\n",
    "grade_map = {\n",
    "    'A+': 4.5,\n",
    "    'A0': 4.0,\n",
    "    'B+': 3.5,\n",
    "    'B0': 3.0,\n",
    "    'C+': 2.5,\n",
    "    'C0': 2.0,\n",
    "    'D+': 1.5,\n",
    "    'D0': 1.0,\n",
    "    'F' : 0.0\n",
    "}    \n",
    "\n",
    "_sum_grade_weight = 0\n",
    "_sum_weight = 0\n",
    "for i in _input:\n",
    "    if i.get('grade') == 'P':\n",
    "        continue\n",
    "    _sum_grade_weight += grade_map[i.get('grade')] * i.get('weight')\n",
    "    _sum_weight += i.get('weight')\n",
    "\n",
    "print(_sum_grade_weight / _sum_weight)"
   ]
  },
  {
   "cell_type": "code",
   "outputs": [],
   "source": [],
   "metadata": {
    "collapsed": false
   },
   "id": "98ff7822136fdbc9"
  }
 ],
 "metadata": {
  "kernelspec": {
   "display_name": "Python 3",
   "language": "python",
   "name": "python3"
  },
  "language_info": {
   "codemirror_mode": {
    "name": "ipython",
    "version": 2
   },
   "file_extension": ".py",
   "mimetype": "text/x-python",
   "name": "python",
   "nbconvert_exporter": "python",
   "pygments_lexer": "ipython2",
   "version": "2.7.6"
  }
 },
 "nbformat": 4,
 "nbformat_minor": 5
}
