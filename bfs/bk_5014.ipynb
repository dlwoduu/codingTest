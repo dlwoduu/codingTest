{
 "cells": [
  {
   "cell_type": "code",
   "execution_count": 13,
   "id": "initial_id",
   "metadata": {
    "collapsed": true,
    "ExecuteTime": {
     "end_time": "2024-05-10T08:31:18.158248Z",
     "start_time": "2024-05-10T08:31:14.549441Z"
    }
   },
   "outputs": [
    {
     "name": "stdout",
     "output_type": "stream",
     "text": [
      "use the stairs\n"
     ]
    }
   ],
   "source": [
    "# F건물 높이, S현재위치, G스타트링크 U위로 U층 D아래로 D층\n",
    "# S 에서 G로 가기위해 눌러야 하는 버튼 수?\n",
    "F, S, G, U, D = map(int, input().split())\n",
    "\n",
    "# index = 1 ~ (F)\n",
    "visit = [False] * (F+1)\n",
    "\n",
    "# 최초시작: S\n",
    "plan = [[S,0]]\n",
    "answer = \"use the stairs\"\n",
    "\n",
    "while len(plan) > 0 : \n",
    "    cur = plan.pop(0)\n",
    "    visit[cur[0]] = True\n",
    "    if cur[0] == G :\n",
    "        answer = cur[1]\n",
    "        break\n",
    "    \n",
    "    for dy in [U,D*-1]:\n",
    "        if 1 <= cur[0] + dy <= F and not visit[cur[0] + dy]:\n",
    "            plan.append([cur[0] + dy, cur[1]+1])\n",
    "\n",
    "print(answer)\n"
   ]
  }
 ],
 "metadata": {
  "kernelspec": {
   "display_name": "Python 3",
   "language": "python",
   "name": "python3"
  },
  "language_info": {
   "codemirror_mode": {
    "name": "ipython",
    "version": 2
   },
   "file_extension": ".py",
   "mimetype": "text/x-python",
   "name": "python",
   "nbconvert_exporter": "python",
   "pygments_lexer": "ipython2",
   "version": "2.7.6"
  }
 },
 "nbformat": 4,
 "nbformat_minor": 5
}
