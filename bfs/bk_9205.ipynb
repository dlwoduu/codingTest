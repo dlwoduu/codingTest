{
 "cells": [
  {
   "cell_type": "code",
   "execution_count": 7,
   "id": "initial_id",
   "metadata": {
    "collapsed": true,
    "ExecuteTime": {
     "end_time": "2024-05-10T06:53:59.436208Z",
     "start_time": "2024-05-10T06:53:42.537531Z"
    }
   },
   "outputs": [
    {
     "name": "stdout",
     "output_type": "stream",
     "text": [
      "happy\n",
      "sad\n"
     ]
    }
   ],
   "source": [
    "test_case = int(input())\n",
    "\n",
    "for test in range(test_case):\n",
    "    # 압력\n",
    "    n = int(input()) # 편의점 수\n",
    "    graph = []\n",
    "    nodes = []\n",
    "    \n",
    "    # make graph (x,y 거리 차이가 1000 이내면 이어짐)\n",
    "    for i in range(n+2):\n",
    "        x, y = map(int, input().split())\n",
    "        nodes.append([x,y])\n",
    "        graph.append([])\n",
    "        for j in range(0, len(nodes)):\n",
    "            dx = nodes[j][0] - x\n",
    "            if dx < 0: dx = -dx\n",
    "        \n",
    "            dy = nodes[j][1] - y\n",
    "            if dy < 0: dy = -dy\n",
    "            \n",
    "            if dx+dy <= 1000 and j != i:\n",
    "                graph[i].append(j)\n",
    "                graph[j].append(i)\n",
    "        \n",
    "    # BFS / start: 0, end : n + 1\n",
    "    visited = [False] * (n + 2)\n",
    "    plan = [0]\n",
    "    answer = 'sad'\n",
    "    \n",
    "    while len(plan) > 0 :\n",
    "        cur = plan.pop(0)\n",
    "        visited[cur] = True\n",
    "        \n",
    "        # 도달 가능\n",
    "        if n+1 in graph[cur]:\n",
    "            answer = 'happy'\n",
    "            break\n",
    "        # 방문예정    \n",
    "        for i in graph[cur]:\n",
    "            if not visited[i]:\n",
    "                plan.append(i)\n",
    "        \n",
    "    \n",
    "    print(answer)    "
   ]
  },
  {
   "cell_type": "code",
   "outputs": [],
   "source": [],
   "metadata": {
    "collapsed": false
   },
   "id": "73d2901ad03874ec"
  }
 ],
 "metadata": {
  "kernelspec": {
   "display_name": "Python 3",
   "language": "python",
   "name": "python3"
  },
  "language_info": {
   "codemirror_mode": {
    "name": "ipython",
    "version": 2
   },
   "file_extension": ".py",
   "mimetype": "text/x-python",
   "name": "python",
   "nbconvert_exporter": "python",
   "pygments_lexer": "ipython2",
   "version": "2.7.6"
  }
 },
 "nbformat": 4,
 "nbformat_minor": 5
}
