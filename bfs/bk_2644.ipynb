{
 "cells": [
  {
   "cell_type": "code",
   "execution_count": 19,
   "id": "initial_id",
   "metadata": {
    "collapsed": true,
    "ExecuteTime": {
     "end_time": "2024-05-10T04:37:32.760284Z",
     "start_time": "2024-05-10T04:37:22.338788Z"
    }
   },
   "outputs": [
    {
     "name": "stdout",
     "output_type": "stream",
     "text": [
      "-1\n"
     ]
    }
   ],
   "source": [
    "# 전체 사람수\n",
    "N = int(input())\n",
    "\n",
    "# A,B 사이의 촌수를 구한다.\n",
    "A, B = map(int, input().split())\n",
    "\n",
    "# 부모자식 갯수\n",
    "M = int(input())\n",
    "\n",
    "graph = [[] for _  in range(N+1)]\n",
    "\n",
    "for i in range(M):\n",
    "    parent, child = map(int, input().split())\n",
    "    graph[parent].append(child)\n",
    "    graph[child].append(parent)\n",
    "\n",
    "visited = [False] * (N + 1)\n",
    "plan = []\n",
    "\n",
    "answer = -1\n",
    "\n",
    "plan.append([A,0])\n",
    "while len(plan) > 0:\n",
    "    cur = plan.pop(0)\n",
    "    visited[cur[0]] = True\n",
    "    \n",
    "    if B == cur[0]:\n",
    "        answer = cur[1]\n",
    "        break\n",
    "        \n",
    "    for child in graph[cur[0]]:\n",
    "        if not visited[child]:\n",
    "            plan.append([child, cur[1] + 1])\n",
    "    \n",
    "print(answer)\n"
   ]
  }
 ],
 "metadata": {
  "kernelspec": {
   "display_name": "Python 3",
   "language": "python",
   "name": "python3"
  },
  "language_info": {
   "codemirror_mode": {
    "name": "ipython",
    "version": 2
   },
   "file_extension": ".py",
   "mimetype": "text/x-python",
   "name": "python",
   "nbconvert_exporter": "python",
   "pygments_lexer": "ipython2",
   "version": "2.7.6"
  }
 },
 "nbformat": 4,
 "nbformat_minor": 5
}
