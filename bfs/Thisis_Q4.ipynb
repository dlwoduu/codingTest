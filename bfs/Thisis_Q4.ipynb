{
 "cells": [
  {
   "cell_type": "markdown",
   "source": [
    "N,M 크기 얼음판\n",
    "0 물 1 칸막이"
   ],
   "metadata": {
    "collapsed": false
   }
  },
  {
   "cell_type": "code",
   "execution_count": null,
   "metadata": {
    "collapsed": true
   },
   "outputs": [],
   "source": [
    "from collections import deque\n",
    "\n",
    "N,M = map(int, input().split())\n",
    "mold  = [list(map(int, input().split())) for i in range(N)]\n",
    "\n",
    "queue = deque()\n",
    "directions = [(1,0),(-1,0),(0,1),(0,-1)]\n",
    "\n",
    "answer = 0\n",
    "\n",
    "\n",
    "for i in range(N):\n",
    "    for j in range(M):\n",
    "        if mold[i][j] == 1: continue #칸막이\n",
    "        else:\n",
    "            queue.append((i,j))\n",
    "            while len(queue > 0):\n",
    "                i_, j_ = queue.popleft()\n",
    "                mold[i_][j_] = 1\n",
    "                for d in directions:\n",
    "                    #얼음틀 밖도 아니고 칸막이도 아님\n",
    "                    if not (0 <= i_+d[0] < N and 0 <= j_+d[1] < M) and mold[i_+d[0]][j_+d[1]] == 0 :\n",
    "                        queue.append(i_+d[0], j_+d[1])\n",
    "        answer = answer + 1\n",
    "\n",
    "print(answer)"
   ]
  }
 ],
 "metadata": {
  "kernelspec": {
   "display_name": "Python 3",
   "language": "python",
   "name": "python3"
  },
  "language_info": {
   "codemirror_mode": {
    "name": "ipython",
    "version": 2
   },
   "file_extension": ".py",
   "mimetype": "text/x-python",
   "name": "python",
   "nbconvert_exporter": "python",
   "pygments_lexer": "ipython2",
   "version": "2.7.6"
  }
 },
 "nbformat": 4,
 "nbformat_minor": 0
}
